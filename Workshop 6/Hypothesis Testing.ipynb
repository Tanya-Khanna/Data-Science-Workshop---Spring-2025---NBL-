{
 "cells": [
  {
   "cell_type": "markdown",
   "id": "f7d5b66f-8e8b-4f99-8dff-e7edc5b04170",
   "metadata": {},
   "source": [
    "# **Statistical Hypothesis Testing**\n",
    "\n",
    "Hypothesis testing is a statistical method used to make inferences about a population based on sample data.\n",
    "\n",
    "## **Key Steps in Hypothesis Testing**\n",
    "1. **Formulate the null and alternative hypotheses**  \n",
    "2. **Choose a significance level (alpha)**  \n",
    "3. **Collect and prepare data**  \n",
    "4. **Select and calculate the test statistic**  \n",
    "5. **Determine the p-value**  \n",
    "6. **Make a decision about the null hypothesis**  \n",
    "7. **Interpret the results in the context of the original problem**  "
   ]
  },
  {
   "cell_type": "markdown",
   "id": "a8974697-28f0-4319-8de2-646e253a2e06",
   "metadata": {},
   "source": [
    "The **test statistic** is a numerical value calculated from the sample data during hypothesis testing. It helps determine whether to reject the **null hypothesis (\\(H_0\\))** by comparing it to a **critical value** or using it to compute a **p-value**.\n",
    "\n",
    "- It **quantifies the evidence** against the null hypothesis.\n",
    "- It is computed using a **formula specific to the chosen hypothesis test**.\n",
    "- Its value helps determine the **statistical significance** of the results.\n",
    "\n",
    "The **critical value** is a threshold that helps decide whether to reject \\(H_0\\). It is chosen based on:\n",
    "- The **significance level (alpha)**, usually set at 0.05 (5%).\n",
    "- The **statistical test used** (Z-test, T-test, Chi-square test, etc.).\n",
    "- The **sampling distribution** (Normal, t-distribution, etc.).\n",
    "\n",
    "If the **test statistic is more extreme than the critical value**, we reject the null hypothesis.\n",
    "\n",
    "Imagine you are **checking if a new medicine works**. You test it on a group and compare their results to a known standard.\n",
    "\n",
    "- **Test Statistic:** It’s like your exam score after taking a test.\n",
    "- **Critical Value:** It’s like the **passing mark** set by the teacher.\n",
    "- If your score (test statistic) **exceeds the passing mark (critical value)**, you **reject the idea that the medicine has no effect**.\n",
    "\n",
    "In hypothesis testing:\n",
    "- If the test statistic is within the normal range, we **accept \\(H_0\\)** (the medicine does nothing).\n",
    "- If the test statistic is **far beyond the critical value**, we **reject \\(H_0\\)** (the medicine has an effect)."
   ]
  },
  {
   "cell_type": "markdown",
   "id": "e05746bc-fc89-45f3-b17c-88c2ea20f7d8",
   "metadata": {},
   "source": [
    "## **Types of Test Statistics**\n",
    "\n",
    "Different hypothesis tests use different test statistics. Some common ones include:\n",
    "\n",
    "| **Test Statistic** | **Used In** | **Formula** | **Explanation** |\n",
    "|------------------|------------|------------|----------------|\n",
    "| **Z-Statistic (Z-Score)** | Z-test (large samples, known population variance) | $$ Z = \\frac{\\bar{X} - \\mu}{\\sigma / \\sqrt{n}} $$ | Used when the population standard deviation ($\\sigma$) is known. Suitable for large samples ($n > 30$). |\n",
    "| **T-Statistic (T-Score)** | T-test (small samples, unknown population variance) | $$ t = \\frac{\\bar{X} - \\mu}{s / \\sqrt{n}} $$ | Used when the population standard deviation is unknown. Suitable for small samples ($n < 30$). |\n",
    "| **Chi-Square ($\\chi^2$) Statistic** | Chi-Square tests (categorical data, variance tests) | $$ \\chi^2 = \\sum \\frac{(O - E)^2}{E} $$ | Compares observed frequencies ($O$) to expected frequencies ($E$) in categorical data. |\n",
    "| **F-Statistic** | ANOVA (Analysis of Variance) | $$ F = \\frac{\\text{variance between groups}}{\\text{variance within groups}} $$ | Used to compare the means of multiple groups and determine if there is a significant difference. |\n",
    "\n",
    "Each test statistic helps in determining whether to reject the **null hypothesis $H_0$** in different scenarios."
   ]
  },
  {
   "cell_type": "markdown",
   "id": "5255a9d2-03c0-4c9d-aec8-7d3c42314287",
   "metadata": {},
   "source": [
    "### **How is the Test Statistic Used?**\n",
    "\n",
    "1. **Calculate the test statistic** using the appropriate formula.\n",
    "2. **Compare it to the critical value** (from statistical tables) or use it to compute the **p-value**.\n",
    "3. If the **test statistic falls in the rejection region** or if the **p-value is smaller than the significance level (alpha)**, reject \\(H_0\\).\n",
    "\n",
    "---\n",
    "\n",
    "## **Scenario: Exam Score Hypothesis Testing**\n",
    "\n",
    "We want to test whether the **average exam score** of a class is **75**. A sample of **10 students** is taken, and their scores are:\n",
    "\n",
    "$$\n",
    "\\{78, 74, 72, 80, 77, 69, 85, 73, 76, 71\\}\n",
    "$$\n",
    "\n",
    "### **Step 1: Formulate Hypotheses**\n",
    "- **Null Hypothesis (\\(H_0\\))**: The true mean exam score is **75**.\n",
    "- **Alternative Hypothesis (\\(H_1\\))**: The true mean exam score is **not 75**.\n",
    "\n",
    "### **Step 2: Compute T-Statistic**\n",
    "Using the formula:\n",
    "\n",
    "$$\n",
    "t = \\frac{\\bar{X} - \\mu}{s / \\sqrt{n}}\n",
    "$$\n",
    "\n",
    "where:\n",
    "- $\\bar{X}$ = sample mean = **75.5**\n",
    "- $\\mu$ = hypothesized population mean = **75**\n",
    "- $s$ = sample standard deviation = **4.93**\n",
    "- $n$ = sample size = **10**\n",
    "\n",
    "The **calculated T-Statistic** is **0.333**.\n",
    "\n",
    "### **Step 3: Compute P-Value**\n",
    "The corresponding **p-value** is **0.747**.\n",
    "\n",
    "### **Step 4: Decision Rule**\n",
    "- If \\( p \\)-value < **significance level (alpha = 0.05)**, we reject \\(H_0\\).\n",
    "- Since **0.747 > 0.05**, we **fail to reject \\(H_0\\)**, meaning **there is no strong evidence that the true mean is different from 75**.\n"
   ]
  },
  {
   "cell_type": "markdown",
   "id": "ede9d7a4-76ef-4a93-be35-a42363c8949e",
   "metadata": {},
   "source": [
    "## **Scenario: Effectiveness of a New Customer Service Training Program**\n",
    "\n",
    "A telecom company, **\"ConnectTel\"**, recently introduced a **new customer service training program** for its call center employees. The company’s goal is to **reduce the average call handling time (AHT)** and improve customer satisfaction.\n",
    "\n",
    "### **Objective**\n",
    "The management team wants to determine whether employees who underwent the new training program have significantly **lower average call handling times** compared to those who did not receive the training.\n",
    "\n",
    "### **Data Collection**\n",
    "To evaluate the effectiveness of the training program, the company collected data from **two groups** of employees:\n",
    "- **Control Group**: Employees who did **not** undergo the new training.\n",
    "- **Treatment Group**: Employees who completed the new training program.\n",
    "\n",
    "The average call handling time (AHT) is measured for both groups.\n",
    "\n",
    "### **Key Question**\n",
    "**Does the new training program significantly reduce the average call handling time compared to employees who did not receive the training?**\n",
    "\n",
    "To answer this question, we will conduct a **t-test** to compare the mean AHT between the two groups."
   ]
  },
  {
   "cell_type": "markdown",
   "id": "be1e61f1-b7f2-47bf-bb38-3d6918c68cc7",
   "metadata": {},
   "source": [
    "### **Steps to Simulate Data**\n",
    "\n",
    "### **1. Assume a Normal Distribution for Call Handling Time**\n",
    "- Most real-world **time-based performance metrics** (e.g., call duration) follow a **normal distribution**.\n",
    "- We generate random values that follow a **normal distribution** using `numpy.random.normal()`.\n",
    "\n",
    "### **2. Define Mean and Standard Deviation**\n",
    "- We set **different means** for the **control** and **treatment** groups.\n",
    "- Example:\n",
    "  - **Control Group (No Training)** → Mean = **8.5 minutes**, Std Dev = **1.2 minutes**.\n",
    "  - **Treatment Group (With Training)** → Mean = **7.8 minutes**, Std Dev = **1.1 minutes**.\n",
    "- The **treatment group** is expected to have a **lower mean** because training improves efficiency. \n",
    "\n",
    "### **3. Set Sample Size**\n",
    "- We choose a **reasonable sample size** (e.g., **30 employees** in each group).\n",
    "- The **sample size** should be **large enough for statistical validity** but **small enough for practical business data collection**.\n",
    "\n",
    "### **4. Generate Random Data**\n",
    "- We use `numpy.random.normal(loc=mean, scale=std, size=n)` to generate:\n",
    "  - **Random call handling times** for each group."
   ]
  },
  {
   "cell_type": "code",
   "execution_count": 3,
   "id": "691e8e8d-63cf-4282-9624-31fb8af4257c",
   "metadata": {},
   "outputs": [
    {
     "name": "stdout",
     "output_type": "stream",
     "text": [
      "Control Group Call Handling Times: [ 9.09605698  8.33408284  9.27722625 10.32763583  8.21901595]\n",
      "Treatment Group Call Handling Times: [7.13812273 9.837506   7.78515305 6.63651798 8.7047994 ]\n"
     ]
    }
   ],
   "source": [
    "import numpy as np\n",
    "\n",
    "# Set random seed for reproducibility\n",
    "np.random.seed(42)\n",
    "\n",
    "# Define parameters for the control group (No Training)\n",
    "control_mean = 8.5   # Average call handling time (minutes)\n",
    "control_std = 1.2    # Standard deviation\n",
    "control_size = 30    # Number of employees\n",
    "\n",
    "# Define parameters for the treatment group (With Training)\n",
    "treatment_mean = 7.8  # Expected lower average call handling time\n",
    "treatment_std = 1.1   # Standard deviation\n",
    "treatment_size = 30   # Number of employees\n",
    "\n",
    "# Generate synthetic data\n",
    "control_group = np.random.normal(loc=control_mean, scale=control_std, size=control_size)\n",
    "treatment_group = np.random.normal(loc=treatment_mean, scale=treatment_std, size=treatment_size)\n",
    "\n",
    "# Print first few values to check\n",
    "print(\"Control Group Call Handling Times:\", control_group[:5])\n",
    "print(\"Treatment Group Call Handling Times:\", treatment_group[:5])"
   ]
  },
  {
   "cell_type": "markdown",
   "id": "72b3b670-2288-48e7-8b06-13ce6a4d3f57",
   "metadata": {},
   "source": [
    "### **Formulating Hypothesis & Defining Significance Level**\n",
    "\n",
    "### **1. Formulate Hypotheses**\n",
    "To determine whether the new customer service training program has a significant effect on **call handling time**, we set up the following hypotheses:\n",
    "\n",
    "- **Null Hypothesis ($H_0$)**: The training program has **no effect** on call handling time.  \n",
    "  $$ H_0: \\mu_{\\text{trained}} = \\mu_{\\text{untrained}} $$\n",
    "  (The mean call handling time of trained employees is equal to that of untrained employees.)\n",
    "\n",
    "- **Alternative Hypothesis ($H_1$)**: The training program **reduces** call handling time.  \n",
    "  $$ H_1: \\mu_{\\text{trained}} < \\mu_{\\text{untrained}} $$\n",
    "  (The mean call handling time of trained employees is **less than** that of untrained employees.)\n",
    "\n",
    "This is a **one-tailed (left-tailed) t-test** since we expect the **training to reduce** the call handling time.\n",
    "\n",
    "\n",
    "## **2. Define the Significance Level**\n",
    "- The **significance level** ($\\alpha$) represents the probability of rejecting $H_0$ when it is actually true.\n",
    "- We set $\\alpha = 0.05$ (**5% level of significance**).\n",
    "- This means that we accept a **5% risk** of concluding that the training program is effective when it actually is not.\n",
    "\n",
    "If the **p-value** obtained from the t-test is **less than 0.05**, we will **reject $H_0$** and conclude that the training program significantly reduces call handling time.\n"
   ]
  },
  {
   "cell_type": "markdown",
   "id": "8fb0be67-4924-4f46-990e-c0ac19714732",
   "metadata": {},
   "source": [
    "### **Why Use a T-Test?**\n",
    "\n",
    "- **We Are Comparing the Means of Two Independent Groups**  \n",
    "  The control group (employees without training) and the treatment group (employees with training) are **separate, independent groups**. A **t-test** is the appropriate statistical method to compare their mean call handling times.\n",
    "\n",
    "- **The Sample Size is Limited**  \n",
    "  The **t-test is preferred over a Z-test** when the sample size is **small or moderate** (e.g., 30 employees per group). Since we **do not have a large sample** and need a test that accounts for variability in small samples, a t-test is the right choice.\n",
    "\n",
    "- **The Population Standard Deviation is Unknown**  \n",
    "  A **Z-test requires a known population standard deviation ($\\sigma$)**, but in this case, we only have the **sample standard deviation ($s$)**. The **t-test estimates $\\sigma$ from the sample**, making it the correct test for this scenario."
   ]
  },
  {
   "cell_type": "code",
   "execution_count": 5,
   "id": "d22edc47-b6ed-4b5f-bae1-cf4faeda86c4",
   "metadata": {},
   "outputs": [],
   "source": [
    "import numpy as np  # Import NumPy for numerical computations\n",
    "import scipy.stats as stats  # Import SciPy's stats module for statistical tests\n",
    "import matplotlib.pyplot as plt  # Import Matplotlib for plotting\n",
    "import seaborn as sns  # Import Seaborn for enhanced visualizations\n",
    "\n",
    "# Perform an independent two-sample t-test \n",
    "t_statistic, p_value = stats.ttest_ind(control_group, treatment_group, equal_var=False)  \n",
    "# `ttest_ind` computes the t-test for two independent samples.\n",
    "# `control_group` and `treatment_group` are the two sample datasets.\n",
    "# `equal_var=False` ensures we perform t-test (Welch's t-test), which does not assume equal population variance.\n",
    "# Welch’s t-test is an adaptation of Student’s t-test that does not assume equal population variances.\n",
    "# This is important because real-world datasets often have unequal variances, making Welch’s test more reliable in such cases."
   ]
  },
  {
   "cell_type": "code",
   "execution_count": 6,
   "id": "16bf161b-f3d0-452b-b491-0db2068eb2f8",
   "metadata": {},
   "outputs": [],
   "source": [
    "# Define significance level (commonly set to 0.05)\n",
    "alpha = 0.05  \n",
    "\n",
    "# Determine if we reject the null hypothesis based on the p-value\n",
    "decision = \"Reject H₀ (Training significantly reduces call handling time)\" if p_value < alpha else \"Fail to reject H₀ (No significant reduction in call handling time)\"\n",
    "\n",
    "# If p-value is less than alpha, we reject the null hypothesis, meaning there is a significant difference.\n",
    "# Otherwise, we fail to reject the null hypothesis, indicating no statistically significant difference."
   ]
  },
  {
   "cell_type": "code",
   "execution_count": 7,
   "id": "4c7afdeb-39c3-4b02-8889-dee440e77783",
   "metadata": {},
   "outputs": [],
   "source": [
    "# Compute 95% Confidence Intervals for both groups\n",
    "\n",
    "conf_interval_control = stats.t.interval(\n",
    "    0.95,  # 95% confidence level: We are 95% sure the true mean falls within this range\n",
    "    df=len(control_group)-1,  # Degrees of freedom (sample size - 1)\n",
    "    loc=np.mean(control_group),  # Sample mean: the average value of the control group\n",
    "    scale=stats.sem(control_group)  # Standard error of the mean (SEM): measures variability of sample mean\n",
    ")\n",
    "\n",
    "conf_interval_treatment = stats.t.interval(\n",
    "    0.95,  # 95% confidence level\n",
    "    df=len(treatment_group)-1,  # Degrees of freedom\n",
    "    loc=np.mean(treatment_group),  # Sample mean for the treatment group\n",
    "    scale=stats.sem(treatment_group)  # Standard error of the mean for treatment group\n",
    ")\n",
    "\n",
    "# The function `stats.t.interval` calculates the range (lower, upper bounds) within which we expect \n",
    "# the true mean of each group to lie, based on the t-distribution."
   ]
  },
  {
   "cell_type": "markdown",
   "id": "bd370f02-24bb-446a-9e75-64ac2f2b5483",
   "metadata": {},
   "source": [
    "Confidence intervals (CIs) help us understand the uncertainty in our sample data and provide a range within which the true population mean is likely to fall. Example: Instead of saying \"the average call handling time is 10 minutes,\" a CI allows us to say, \"we are 95% confident that the true average is between 9.5 and 10.5 minutes.\" A p-value only tells us if a difference is statistically significant but doesn’t tell us how big or important the difference is. CI shows the possible range of values, giving a better sense of the effect size. If the confidence interval does not include 0 (or any hypothesized mean difference), we have stronger evidence to reject the null hypothesis.\n",
    "If it does include 0, we might fail to reject the null hypothesis (meaning the difference may not be meaningful).  "
   ]
  },
  {
   "cell_type": "code",
   "execution_count": 8,
   "id": "caa7290e-cf06-4217-a3de-eebc1fcd4730",
   "metadata": {},
   "outputs": [],
   "source": [
    "results = {\n",
    "    \"T-Statistic\": t_statistic,\n",
    "    \"P-Value\": p_value,\n",
    "    \"Decision\": decision,\n",
    "    \"Control Group 95% CI\": conf_interval_control,\n",
    "    \"Treatment Group 95% CI\": conf_interval_treatment\n",
    "}"
   ]
  },
  {
   "cell_type": "code",
   "execution_count": 9,
   "id": "a297d27d-7cbd-4858-8ff8-c7fcbf5860ab",
   "metadata": {},
   "outputs": [
    {
     "data": {
      "text/plain": [
       "{'T-Statistic': np.float64(2.23552670033675),\n",
       " 'P-Value': np.float64(0.029257824976781182),\n",
       " 'Decision': 'Reject H₀ (Training significantly reduces call handling time)',\n",
       " 'Control Group 95% CI': (np.float64(7.870942217242202),\n",
       "  np.float64(8.677505232715308)),\n",
       " 'Treatment Group 95% CI': (np.float64(7.284274080601427),\n",
       "  np.float64(8.049168484760703))}"
      ]
     },
     "execution_count": 9,
     "metadata": {},
     "output_type": "execute_result"
    }
   ],
   "source": [
    "results"
   ]
  },
  {
   "cell_type": "markdown",
   "id": "eb310ab4-f495-4599-b092-83108fbd2061",
   "metadata": {},
   "source": [
    "# **Interpretation of Statistical Findings**\n",
    "\n",
    "## **T-Statistic ($2.24$)**\n",
    "- The **T-statistic** quantifies the **difference between the two groups** relative to the **variability in the data**.\n",
    "- A **higher absolute T-value** suggests a **greater difference** between groups.\n",
    "- Here, $T = 2.24$ indicates a **moderate difference** between trained and untrained employees in terms of call handling time.  A t-statistic of 2.24 indicates a moderate difference between the groups that exceeds random variation. \n",
    "- This shows that the difference in call handling time between trained and untrained employees is likely meaningful rather than due to chance.\n",
    "\n",
    "---\n",
    "\n",
    "## **P-Value ($0.029$)**\n",
    "- The **P-value** represents the **probability** of observing this difference **if there were no real effect** (i.e., if the training had no impact).\n",
    "- Since **$p = 0.029 < \\alpha = 0.05$**, we **reject the null hypothesis** ($H_0$).\n",
    "- **Conclusion:** The training program **significantly reduced call handling time**. The probability of seeing this difference purely by chance is only 2.9%.\n",
    "\n",
    "---\n",
    "\n",
    "## **Confidence Intervals (95% CI)**\n",
    "- **Control Group (No Training):** Call handling time falls between **$7.87$ to $8.68$ minutes**.\n",
    "- **Treatment Group (With Training):** Call handling time falls between **$7.28$ to $8.05$ minutes**.\n",
    "\n",
    "**Interpretation:**  \n",
    "- The intervals actually do overlap slightly (8.05 > 7.87), but the overlap is minimal. In hypothesis testing, we shouldn't solely rely on confidence interval overlap as a criterion for significance. The p-value already tells us the difference is statistically significant, and the slight overlap doesn't invalidate this conclusion.\n"
   ]
  },
  {
   "cell_type": "markdown",
   "id": "919a4416-499e-4af9-b30c-22f86f2516e1",
   "metadata": {},
   "source": [
    "## **Actionable Business Recommendations**\n",
    "\n",
    "## 📌 **1. Expand the Training Program to More Employees**\n",
    "- The data confirms that **trained employees handle calls faster** than untrained employees.\n",
    "- **Recommendation:** Scale up the training to **all call center employees** to improve operational efficiency.\n",
    "\n",
    "\n",
    "## 📌 **2. Set an Expected Performance Benchmark**\n",
    "- Employees who completed training have an **average handling time of ~7.8 minutes**, compared to **~8.5 minutes** for untrained employees.\n",
    "- **Recommendation:** Set a **performance benchmark of ~7.8 minutes per call** for employees post-training.\n",
    "\n",
    "\n",
    "## 📌 **3. Quantify Business Impact**\n",
    "- Calculate the **time and cost savings** from the reduced call handling time.\n",
    "- **Example Calculation:**\n",
    "  - If each employee **handles 50 calls per day**,\n",
    "  - A **reduction of ~0.6 minutes per call** (based on confidence intervals),\n",
    "  - **Saves ~30 minutes per employee daily**.\n",
    "- **Recommendation:** Use these insights to **optimize workforce allocation** and **reduce operational costs**.\n",
    "\n",
    "\n",
    "## 📌 **4. Estimate Cost Savings from Reduced Call Handling Time**\n",
    "- If each trained agent **reduces call time by 0.6 minutes per call**, this could lead to:\n",
    "  - **More calls handled per hour**, increasing overall productivity.\n",
    "  - **Reduced labor costs** by optimizing call center workforce needs.\n",
    "  - **Faster customer service**, leading to **higher customer satisfaction**.\n",
    "\n",
    "\n",
    "## 📌 **5. Conduct Follow-Up Evaluation After Full Implementation**\n",
    "- The study was conducted with a **limited sample size** (30 employees per group).\n",
    "- **Recommendation:** After implementing the training across all employees, conduct a **long-term evaluation** to:\n",
    "  - **Validate improvements** in efficiency.\n",
    "  - **Measure the financial impact** of reduced call handling times.\n",
    "  - **Assess if retraining or ongoing coaching is needed** to sustain improvements.\n",
    "- Establish a **tracking system** to ensure **improvements persist over time**.\n",
    "- **Recommendation:** Monitor if refresher training might be needed for employees to maintain efficiency.\n",
    "\n",
    "\n",
    "## 📌 **6. Consider Optimizing Other Performance Metrics**\n",
    "- While call time reduction is positive, it should **not negatively impact** other important business metrics. The **quality of service should also be assessed**.\n",
    "- **Recommendation:** Combine training improvements with **customer satisfaction metrics** to ensure that **faster handling does not compromise service quality**. Verify that **customer satisfaction, issue resolution rates, and first-call resolution (FCR)** are not compromised due to the focus on speed."
   ]
  },
  {
   "cell_type": "code",
   "execution_count": null,
   "id": "08298158-87af-45ea-8710-fd1847368547",
   "metadata": {},
   "outputs": [],
   "source": []
  }
 ],
 "metadata": {
  "kernelspec": {
   "display_name": "Python 3 (ipykernel)",
   "language": "python",
   "name": "python3"
  },
  "language_info": {
   "codemirror_mode": {
    "name": "ipython",
    "version": 3
   },
   "file_extension": ".py",
   "mimetype": "text/x-python",
   "name": "python",
   "nbconvert_exporter": "python",
   "pygments_lexer": "ipython3",
   "version": "3.12.5"
  }
 },
 "nbformat": 4,
 "nbformat_minor": 5
}
